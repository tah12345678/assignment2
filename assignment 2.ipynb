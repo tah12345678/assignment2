{
 "cells": [
  {
   "cell_type": "markdown",
   "id": "326dd06e",
   "metadata": {},
   "source": [
    "# scenario 1"
   ]
  },
  {
   "cell_type": "code",
   "execution_count": null,
   "id": "8d5992f6",
   "metadata": {},
   "outputs": [],
   "source": [
    "grocery_items = []\n",
    "\n",
    "choice = ''\n",
    "\n",
    "if choice != 'q':\n",
    "    item_name = input('Enter item name: ')\n",
    "    quantity = int(input('Enter quantity: '))\n",
    "    cost = float(input('Enter price per item: '))\n",
    "\n",
    "    grocery_item = {'name': item_name, 'quantity': quantity, 'cost': cost}\n",
    "\n",
    "    grocery_items.append(grocery_item)\n",
    "\n",
    "    choice = input(\"Would you like to enter another item? Type 'c' for continue or 'q' to quit: \")\n",
    "\n",
    "    if choice == 'r':\n",
    "        item_name = input('Enter item name to remove: ')\n",
    "\n",
    "        for item in grocery_items:\n",
    "            if item['name'] == item_name:\n",
    "                grocery_items.remove(item)\n",
    "                print(f'{item_name} has been removed from the list.')\n",
    "                \n",
    "        else:\n",
    "            print(f'{item_name} is not in the list.')\n",
    "\n",
    "    elif choice == 'd':\n",
    "        print('Current grocery list:')\n",
    "        for item in grocery_items:\n",
    "            print(f'{item[\"quantity\"]} {item[\"name\"]}  Rs{item[\"cost\"]} each')\n",
    "\n",
    "total_cost = 0\n",
    "for item in grocery_items:\n",
    "    total_cost += item['quantity'] * item['cost']\n",
    "\n",
    "print(f'Total cost: Rs{total_cost:.2f}')\n"
   ]
  },
  {
   "cell_type": "markdown",
   "id": "a27396ca",
   "metadata": {},
   "source": [
    "# scenario 2\n"
   ]
  },
  {
   "cell_type": "code",
   "execution_count": 1,
   "id": "59ed5a2f",
   "metadata": {},
   "outputs": [
    {
     "name": "stdout",
     "output_type": "stream",
     "text": [
      "Enter student's name: t\n",
      "Enter student's grades: 45\n",
      "Enter student's name: po\n",
      "Enter student's grades: 45\n",
      "Enter student's name: io\n",
      "Enter student's grades: 78\n",
      "Enter student's name: hj\n",
      "Enter student's grades: 65\n",
      "Enter student's name: yt\n",
      "Enter student's grades: 45\n",
      "Student's grade: \n",
      "Your average grade is: 55.60\n"
     ]
    }
   ],
   "source": [
    "students_g = {}\n",
    "t_grades = 0\n",
    "num_students = 0\n",
    "\n",
    "while num_students < 5:\n",
    "    students = input(\"Enter student's name: \")\n",
    "    grades = float(input(\"Enter student's grades: \"))\n",
    "    t_grades += grades\n",
    "    num_students += 1 \n",
    "\n",
    "average = t_grades / num_students\n",
    "\n",
    "print (\"Student's grade: \")\n",
    "\n",
    "for students , grades in students_g.items():\n",
    "    print(f\"{students} : {grades}\")\n",
    "print (f\"Your average grade is: {average:.2f}\")\n"
   ]
  },
  {
   "cell_type": "markdown",
   "id": "43622c45",
   "metadata": {},
   "source": [
    "# scenario 3"
   ]
  },
  {
   "cell_type": "code",
   "execution_count": 3,
   "id": "1219cf6c",
   "metadata": {},
   "outputs": [
    {
     "name": "stdout",
     "output_type": "stream",
     "text": [
      "word frequency\n",
      "apple : 3\n",
      "banana : 2\n",
      "orange : 1\n",
      "grape : 1\n"
     ]
    }
   ],
   "source": [
    "word_list = [\"apple\", \"banana\", \"apple\", \"orange\", \"banana\", \"grape\", \"apple\"]\n",
    "word_count = {}\n",
    "for word in word_list:\n",
    "    if word in word_count:\n",
    "        word_count[word] += 1\n",
    "    else:\n",
    "         word_count[word] = 1\n",
    "print (\"word frequency\")\n",
    "for word, count in word_count.items():\n",
    "    print(f\"{word} : {count}\")"
   ]
  },
  {
   "cell_type": "markdown",
   "id": "d354f343",
   "metadata": {},
   "source": [
    "# scenario 4"
   ]
  },
  {
   "cell_type": "code",
   "execution_count": 6,
   "id": "2257814c",
   "metadata": {},
   "outputs": [
    {
     "name": "stdout",
     "output_type": "stream",
     "text": [
      "Enter your password: dfhdjvbdjncdcfd\n",
      "Password is weak. Please make sure it meets the criteria.\n"
     ]
    }
   ],
   "source": [
    "criteria = {\n",
    "    \"length\": False,\n",
    "    \"digit\": False,\n",
    "    \"letter\": False\n",
    "}\n",
    "\n",
    "password = input(\"Enter your password: \")\n",
    "\n",
    "if len(password) >= 8:\n",
    "    criteria[\"length\"] = True\n",
    "\n",
    "for char in password:\n",
    "    if char.isdigit():\n",
    "        criteria[\"digit\"] = True\n",
    "        \n",
    "\n",
    "for char in password:\n",
    "    if char.isalpha():\n",
    "        criteria[\"letter\"] = True\n",
    "        \n",
    "\n",
    "if all(criteria.values()):\n",
    "    print(\"Password is strong.\")\n",
    "else:\n",
    "    print(\"Password is weak. Please make sure it meets the criteria.\")"
   ]
  },
  {
   "cell_type": "markdown",
   "id": "4005942e",
   "metadata": {},
   "source": [
    "# scenario 5"
   ]
  },
  {
   "cell_type": "code",
   "execution_count": null,
   "id": "03d4364c",
   "metadata": {},
   "outputs": [
    {
     "name": "stdout",
     "output_type": "stream",
     "text": [
      "Enter the number of voters: 3\n",
      "\n",
      "Voter 1\n",
      "\n",
      "Employee of the Year Nominees:\n",
      "1. Candidate A\n",
      "2. Candidate B\n",
      "3. Candidate C\n",
      "Vote for Employee of the Year (1-3): 4\n",
      "Invalid vote. Please choose a valid candidate.\n",
      "Vote for Employee of the Year (1-3): 2\n",
      "Vote recorded for Candidate B in Employee of the Year.\n",
      "\n",
      "Team Player of the Year Nominees:\n",
      "1. Candidate A\n",
      "2. Candidate B\n",
      "3. Candidate C\n",
      "Vote for Team Player of the Year (1-3): 1\n",
      "Vote recorded for Candidate A in Team Player of the Year.\n",
      "\n",
      "Innovation Award Nominees:\n",
      "1. Candidate A\n",
      "2. Candidate B\n",
      "3. Candidate C\n",
      "Vote for Innovation Award (1-3): 3\n",
      "Vote recorded for Candidate C in Innovation Award.\n",
      "\n",
      "Voter 2\n",
      "\n",
      "Employee of the Year Nominees:\n",
      "1. Candidate A\n",
      "2. Candidate B\n",
      "3. Candidate C\n"
     ]
    }
   ],
   "source": [
    "candidates = {\n",
    "    \"Employee of the Year\": ['Candidate A', 'Candidate B', 'Candidate C'],\n",
    "    \"Team Player of the Year\": ['Candidate A', 'Candidate B', 'Candidate C'],\n",
    "    \"Innovation Award\": ['Candidate A', 'Candidate B', 'Candidate C']\n",
    "}\n",
    "\n",
    "votes = {category: {candidate: 0 for candidate in candidates[category]} for category in candidates}\n",
    "\n",
    "num_voters = int(input(\"Enter the number of voters: \"))\n",
    "\n",
    "for _ in range(num_voters):\n",
    "    print(\"\\nVoter\", _ + 1)\n",
    "\n",
    "    for category, nominee_list in candidates.items():\n",
    "        print(f\"\\n{category} Nominees:\")\n",
    "        for i, nominee in enumerate(nominee_list, start=1):\n",
    "            print(f\"{i}. {nominee}\")\n",
    "\n",
    "        while True:\n",
    "            try:\n",
    "                vote = int(input(f\"Vote for {category} (1-{len(nominee_list)}): \"))\n",
    "                if 1 <= vote <= len(nominee_list):\n",
    "                    votes[category][nominee_list[vote - 1]] += 1\n",
    "                    print(f\"Vote recorded for {nominee_list[vote - 1]} in {category}.\")\n",
    "                    break\n",
    "                else:\n",
    "                    print(\"Invalid vote. Please choose a valid candidate.\")\n",
    "            except ValueError:\n",
    "                print(\"Invalid input. Please enter a number.\")\n",
    "\n",
    "print(\"\\nVoting Results:\")\n",
    "for category, result in votes.items():\n",
    "    print(f\"\\n{category} Results:\")\n",
    "    for candidate, count in result.items():\n",
    "        print(f\"{candidate}: {count} votes\")\n",
    "\n",
    "winners = {category: max(result, key=result.get) for category, result in votes.items()}\n",
    "print(\"\\nAward Winners:\")\n",
    "for category, winner in winners.items():\n",
    "    print(f\"{category}: {winner}\")"
   ]
  },
  {
   "cell_type": "code",
   "execution_count": null,
   "id": "0d22cc1b",
   "metadata": {},
   "outputs": [],
   "source": []
  }
 ],
 "metadata": {
  "kernelspec": {
   "display_name": "Python 3 (ipykernel)",
   "language": "python",
   "name": "python3"
  },
  "language_info": {
   "codemirror_mode": {
    "name": "ipython",
    "version": 3
   },
   "file_extension": ".py",
   "mimetype": "text/x-python",
   "name": "python",
   "nbconvert_exporter": "python",
   "pygments_lexer": "ipython3",
   "version": "3.11.5"
  }
 },
 "nbformat": 4,
 "nbformat_minor": 5
}
